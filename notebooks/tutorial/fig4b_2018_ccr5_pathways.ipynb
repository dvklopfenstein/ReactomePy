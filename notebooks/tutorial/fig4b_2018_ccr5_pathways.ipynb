{
 "cells": [
  {
   "cell_type": "markdown",
   "metadata": {},
   "source": [
    "# In which pathways does CCR5 (UniProt:P51681) participate?\n",
    "\n",
    "From Figure 4a in [_**Reactome graph database: Efficient access to complex pathway data**_](https://journals.plos.org/ploscompbiol/article?rev=2&id=10.1371/journal.pcbi.1005968)\n",
    "\n",
    "\n",
    "## Step 1) [Connect to Neo4j loaded with the Reactome Knowledgebase](https://github.com/dvklopfenstein/reactome_neo4j_py/blob/master/doc/md/README_gdbdr.md)"
   ]
  },
  {
   "cell_type": "code",
   "execution_count": 1,
   "metadata": {},
   "outputs": [],
   "source": [
    "from neo4j import GraphDatabase\n",
    "\n",
    "neo4j_url = 'bolt://localhost:7687'\n",
    "neo4j_usr = 'neo4j'\n",
    "neo4j_password = 'myneo4j_password'\n",
    "\n",
    "gdbdr = GraphDatabase.driver(neo4j_url, auth=(neo4j_usr, neo4j_password))"
   ]
  },
  {
   "cell_type": "markdown",
   "metadata": {},
   "source": [
    "## Step 2) Query for CCR5 Pathways\n",
    "### In which pathways does CCR5 (UniProt:P51681) participate?"
   ]
  },
  {
   "cell_type": "code",
   "execution_count": 7,
   "metadata": {},
   "outputs": [],
   "source": [
    "## Step 2) CCR5 Pathways Query\n",
    "\n",
    "query = ('MATCH (p:Pathway)-[:hasEvent*]->(rle:ReactionLikeEvent), '\n",
    "         '(rle)-[:input|output|catalystActivity|entityFunctionalStatus|physicalEntity|'\n",
    "         'regulatedBy|regulator|hasComponent|hasMember|hasCandidate|repeatedUnit*]->(pe:PhysicalEntity), '\n",
    "         '(pe)-[:referenceEntity]->(re:ReferenceEntity{identifier:\"P51681\"}), '\n",
    "         '(re)-[:referenceDatabase]->(rd:ReferenceDatabase{displayName:\"UniProt\"}) '\n",
    "         'RETURN DISTINCT p.stId AS Identifier, p.displayName AS Pathway')\n",
    "\n",
    "# Query and get the sub-pathways under R-HSA-983169\n",
    "def _get_data():\n",
    "    with gdbdr.session() as session:\n",
    "        return [rec.data() for rec in session.run(query).records()]\n",
    "\n",
    "data = _get_data()"
   ]
  },
  {
   "cell_type": "markdown",
   "metadata": {},
   "source": [
    "## Step 3) Print sub-pathways under R-HSA-983169"
   ]
  },
  {
   "cell_type": "code",
   "execution_count": 9,
   "metadata": {},
   "outputs": [
    {
     "name": "stdout",
     "output_type": "stream",
     "text": [
      "18 sub-pathways found\n",
      "\n",
      " ID           | Pathway Name\n",
      "--------------|----------------------\n",
      "R-HSA-1280215 | Cytokine Signaling in Immune system\n",
      "R-HSA-162582  | Signal Transduction\n",
      "R-HSA-162587  | HIV Life Cycle\n",
      "R-HSA-162594  | Early Phase of HIV Life Cycle\n",
      "R-HSA-162906  | HIV Infection\n",
      "R-HSA-1643685 | Disease\n",
      "R-HSA-168256  | Immune System\n",
      "R-HSA-173107  | Binding and entry of HIV virion\n",
      "R-HSA-372790  | Signaling by GPCR\n",
      "R-HSA-373076  | Class A/1 (Rhodopsin-like receptors)\n",
      "R-HSA-375276  | Peptide ligand-binding receptors\n",
      "R-HSA-380108  | Chemokine receptors bind chemokines\n",
      "R-HSA-388396  | GPCR downstream signalling\n",
      "R-HSA-418594  | G alpha (i) signalling events\n",
      "R-HSA-449147  | Signaling by Interleukins\n",
      "R-HSA-500792  | GPCR ligand binding\n",
      "R-HSA-5663205 | Infectious disease\n",
      "R-HSA-6783783 | Interleukin-10 signaling\n"
     ]
    }
   ],
   "source": [
    "print('{N} sub-pathways found:\\n'.format(N=len(data)))\n",
    "print(' ID           | Pathway Name')\n",
    "print('--------------|----------------------')\n",
    "for record in sorted(data, key=lambda r:r['Identifier']):\n",
    "    print(\"{Identifier:13} | {Pathway}\".format(**record))"
   ]
  },
  {
   "cell_type": "markdown",
   "metadata": {},
   "source": [
    "Copyright (C) 2018-present, DV Klopfenstein. All rights reserved."
   ]
  }
 ],
 "metadata": {
  "kernelspec": {
   "display_name": "Python 3",
   "language": "python",
   "name": "python3"
  },
  "language_info": {
   "codemirror_mode": {
    "name": "ipython",
    "version": 3
   },
   "file_extension": ".py",
   "mimetype": "text/x-python",
   "name": "python",
   "nbconvert_exporter": "python",
   "pygments_lexer": "ipython3",
   "version": "3.6.7"
  }
 },
 "nbformat": 4,
 "nbformat_minor": 2
}
