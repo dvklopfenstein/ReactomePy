{
 "cells": [
  {
   "cell_type": "markdown",
   "metadata": {},
   "source": [
    "# Tutorial 1b) Retrieving a protein based on its identifier\n",
    "Get one form of PTEN in the cytosol with identifier R-HSA-199420\n",
    "\n",
    "[**Reactome Tutorial**: Retrieving a protein object](https://reactome.org/dev/graph-database/extract-participating-molecules#retrieving-objects)\n",
    "\n",
    "## Step 1) [Connect to Neo4j loaded with the Reactome Knowledgebase](https://github.com/dvklopfenstein/reactome_neo4j_py/blob/master/doc/md/README_gdbdr.md)"
   ]
  },
  {
   "cell_type": "code",
   "execution_count": 2,
   "metadata": {},
   "outputs": [],
   "source": [
    "from neo4j import GraphDatabase\n",
    "\n",
    "neo4j_url = 'bolt://localhost:7687'\n",
    "neo4j_usr = 'neo4j'\n",
    "neo4j_password = 'myneo4j_password'\n",
    "\n",
    "gdbdr = GraphDatabase.driver(neo4j_url, auth=(neo4j_usr, neo4j_password))"
   ]
  },
  {
   "cell_type": "markdown",
   "metadata": {},
   "source": [
    " ## Step 2) Query\n",
    " ###  Get one form of PTEN in the cytosol with identifier R-HSA-199420\n",
    " An _EntityWithAccessionedSequence_ corresponds to a protein in Reactome"
   ]
  },
  {
   "cell_type": "code",
   "execution_count": 4,
   "metadata": {},
   "outputs": [
    {
     "name": "stdout",
     "output_type": "stream",
     "text": [
      "    schemaClass EntityWithAccessionedSequence\n",
      "    speciesName Homo sapiens\n",
      "    oldStId     REACT_13069\n",
      "    startCoordinate 2\n",
      "    isInDisease False\n",
      "    displayName PTEN [cytosol]\n",
      "    stIdVersion R-HSA-199420.2\n",
      "    dbId        199420\n",
      "    name        ['PTEN', 'Phosphatidylinositol-3,4,5-trisphosphate 3-phosphatase PTEN', 'PTEN_HUMAN', 'MMAC1', 'TEP1']\n",
      "    referenceType ReferenceGeneProduct\n",
      "    endCoordinate 403\n",
      "    stId        R-HSA-199420\n"
     ]
    }
   ],
   "source": [
    "query = 'MATCH (ewas:EntityWithAccessionedSequence{stId:\"R-HSA-199420\"}) RETURN ewas'\n",
    "\n",
    "with gdbdr.session() as session:\n",
    "    for rec in session.run(query).data():\n",
    "        for key, val in rec['ewas'].items():\n",
    "            print(\"    {KEY:11} {VAL}\".format(KEY=key, VAL=val))"
   ]
  },
  {
   "cell_type": "markdown",
   "metadata": {},
   "source": [
    "Copyright (C) 2018-present, DV Klopfenstein. All rights reserved."
   ]
  }
 ],
 "metadata": {
  "kernelspec": {
   "display_name": "Python 3",
   "language": "python",
   "name": "python3"
  },
  "language_info": {
   "codemirror_mode": {
    "name": "ipython",
    "version": 3
   },
   "file_extension": ".py",
   "mimetype": "text/x-python",
   "name": "python",
   "nbconvert_exporter": "python",
   "pygments_lexer": "ipython3",
   "version": "3.6.7"
  }
 },
 "nbformat": 4,
 "nbformat_minor": 2
}
