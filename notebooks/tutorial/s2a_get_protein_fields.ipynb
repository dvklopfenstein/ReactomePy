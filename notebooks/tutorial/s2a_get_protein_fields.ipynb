{
 "cells": [
  {
   "cell_type": "markdown",
   "metadata": {},
   "source": [
    "# Tutorial 2a) Retrieve identifiers for a protein.\n",
    "Get the ID and name of the PTEN protein in the cytosol with identifier R-HSA-199420\n",
    "\n",
    "[**Reactome Tutorial**: Retrieving identifiers for proteins or chemicals](https://reactome.org/dev/graph-database/extract-participating-molecules#identifiers-proteins-or-chemicals)\n",
    "\n",
    "## Step 1) [Connect to Neo4j loaded with the Reactome Knowledgebase](https://github.com/dvklopfenstein/reactome_neo4j_py/blob/master/doc/md/README_gdbdr.md)"
   ]
  },
  {
   "cell_type": "code",
   "execution_count": 2,
   "metadata": {},
   "outputs": [],
   "source": [
    "from neo4j import GraphDatabase\n",
    "\n",
    "neo4j_url = 'bolt://localhost:7687'\n",
    "neo4j_usr = 'neo4j'\n",
    "neo4j_password = 'myneo4j_password'\n",
    "\n",
    "gdbdr = GraphDatabase.driver(neo4j_url, auth=(neo4j_usr, neo4j_password))"
   ]
  },
  {
   "cell_type": "markdown",
   "metadata": {},
   "source": [
    " ## Step 2) Query\n",
    " ###  Get the ID and name of the PTEN protein in the cytosol with identifier R-HSA-199420\n",
    " An _EntityWithAccessionedSequence_ corresponds to a protein in Reactome"
   ]
  },
  {
   "cell_type": "code",
   "execution_count": 8,
   "metadata": {},
   "outputs": [
    {
     "name": "stdout",
     "output_type": "stream",
     "text": [
      "    P60484      PTEN [cytosol]\n"
     ]
    }
   ],
   "source": [
    "query = ('MATCH (ewas:EntityWithAccessionedSequence{stId:\"R-HSA-199420\"}), '\n",
    "         '(ewas)-[:referenceEntity]->(re:ReferenceEntity) '\n",
    "         'RETURN ewas.displayName AS Name, re.identifier AS ID')\n",
    "\n",
    "with gdbdr.session() as session:\n",
    "    for rec in session.run(query).records():\n",
    "        print(\"    {ID:11} {Name}\".format(**rec))"
   ]
  },
  {
   "cell_type": "markdown",
   "metadata": {},
   "source": [
    "Copyright (C) 2018-2021, DV Klopfenstein. All rights reserved."
   ]
  }
 ],
 "metadata": {
  "kernelspec": {
   "display_name": "Python 3",
   "language": "python",
   "name": "python3"
  },
  "language_info": {
   "codemirror_mode": {
    "name": "ipython",
    "version": 3
   },
   "file_extension": ".py",
   "mimetype": "text/x-python",
   "name": "python",
   "nbconvert_exporter": "python",
   "pygments_lexer": "ipython3",
   "version": "3.6.7"
  }
 },
 "nbformat": 4,
 "nbformat_minor": 2
}
