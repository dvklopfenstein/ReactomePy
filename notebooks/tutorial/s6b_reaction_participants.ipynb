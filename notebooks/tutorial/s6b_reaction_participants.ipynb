{
 "cells": [
  {
   "cell_type": "markdown",
   "metadata": {},
   "source": [
    "# Tutorial 6b) Retrieving all participants for a given reaction\n",
    "What are all the participants in the reaction, R-HSA-8863895, _IKKB phosphorylates SNAP23_?\n",
    "\n",
    "[**Reactome Tutorial**: Retrieving the participants for a given reaction](https://reactome.org/dev/graph-database/extract-participating-molecules#retrieving-participants)\n",
    "\n",
    "## Step 1) [Connect to Neo4j loaded with the Reactome Knowledgebase](https://github.com/dvklopfenstein/reactome_neo4j_py/blob/master/doc/md/README_gdbdr.md)"
   ]
  },
  {
   "cell_type": "code",
   "execution_count": 3,
   "metadata": {},
   "outputs": [],
   "source": [
    "from neo4j import GraphDatabase\n",
    "\n",
    "neo4j_url = 'bolt://localhost:7687'\n",
    "neo4j_usr = 'neo4j'\n",
    "neo4j_password = 'myneo4j_password'\n",
    "\n",
    "gdbdr = GraphDatabase.driver(neo4j_url, auth=(neo4j_usr, neo4j_password))"
   ]
  },
  {
   "cell_type": "markdown",
   "metadata": {},
   "source": [
    " ## Step 2) Reaction Participant Query\n",
    " ### What are all the participants in the reaction, R-HSA-8863895, _IKKB phosphorylates SNAP23_?\n",
    "Reactions have inputs, outputs, catalysts and regulations, so to know the participants of a reaction, all these slots have to be taken into account. Please note that the physical entity acting as catalyst is stored in the _physicalEntity_ slot of the class _CatalystActivity_ and the one belonging to the regulation is stored in the _regulator_ slot of the _Regulation_ class."
   ]
  },
  {
   "cell_type": "code",
   "execution_count": 4,
   "metadata": {},
   "outputs": [],
   "source": [
    "query = ('MATCH (r:ReactionLikeEvent{stId:\"R-HSA-8863895\"})-[:'\n",
    "         'input|output|catalystActivity|regulatedBy|'\n",
    "         'physicalEntity|regulator|hasComponent|hasMember|hasCandidate*]'\n",
    "         '->(pe:PhysicalEntity)'\n",
    "         'RETURN DISTINCT r.stId AS Reaction, pe.stId as Participant, pe.displayName AS DisplayName')\n",
    "\n",
    "# Query all the participants in the reaction, R-HSA-8863895, IKKB phosphorylates SNAP23?\n",
    "def _get_data():\n",
    "    with gdbdr.session() as session:\n",
    "        return [rec.data() for rec in session.run(query).records()]"
   ]
  },
  {
   "cell_type": "markdown",
   "metadata": {},
   "source": [
    "## Step 3) Print"
   ]
  },
  {
   "cell_type": "code",
   "execution_count": 6,
   "metadata": {},
   "outputs": [
    {
     "name": "stdout",
     "output_type": "stream",
     "text": [
      "     Reaction | Participant   | Participant Name\n",
      "--------------|---------------|----------------\n",
      "R-HSA-8863895 | R-ALL-29370   | ADP [cytosol]\n",
      "R-HSA-8863895 | R-ALL-113592  | ATP [cytosol]\n",
      "R-HSA-8863895 | R-ALL-181161  | Clostridial peptidoglycan [extracellular region]\n",
      "R-HSA-8863895 | R-ALL-181403  | Diacyl lipopeptide [extracellular region]\n",
      "R-HSA-8863895 | R-ALL-166005  | LPS [extracellular region]\n",
      "R-HSA-8863895 | R-ALL-181015  | Lipoteichoic acid [extracellular region]\n",
      "R-HSA-8863895 | R-ALL-179856  | PI(4,5)P2 [plasma membrane]\n",
      "R-HSA-8863895 | R-ALL-180811  | Triacyl lipopeptide [extracellular region]\n",
      "R-HSA-8863895 | R-CTR-9628992 | TLR6:TLR2 recognized ligand [extracellular region]\n",
      "R-HSA-8863895 | R-CTR-9628834 | mip [extracellular region]\n",
      "R-HSA-8863895 | R-HSA-166047  | 2xN4GlycoAsn-LY96 [plasma membrane]\n",
      "R-HSA-8863895 | R-HSA-166045  | 2xN4GlycoAsn-TLR4 [plasma membrane]\n",
      "R-HSA-8863895 | R-HSA-51645   | 4xPalmC-CD36 [plasma membrane]\n",
      "R-HSA-8863895 | R-HSA-181230  | Activated TLR1:2 or TLR 2:6 heterodimers or TLR4 homodimer [plasma membrane]\n",
      "R-HSA-8863895 | R-HSA-197948  | BTK [cytosol]\n",
      "R-HSA-8863895 | R-HSA-166029  | CD14 [plasma membrane]\n",
      "R-HSA-8863895 | R-HSA-166025  | CD14(20-345) [extracellular region]\n",
      "R-HSA-8863895 | R-HSA-168104  | CHUK [cytosol]\n",
      "R-HSA-8863895 | R-HSA-168113  | CHUK:IKBKB:IKBKG [cytosol]\n",
      "R-HSA-8863895 | R-HSA-166033  | GPIN-CD14(20-345) [plasma membrane]\n",
      "R-HSA-8863895 | R-HSA-168114  | IKBKB [cytosol]\n",
      "R-HSA-8863895 | R-HSA-168108  | IKBKG [cytosol]\n",
      "R-HSA-8863895 | R-HSA-937017  | MYD88 [plasma membrane]\n",
      "R-HSA-8863895 | R-HSA-937013  | MyD88 oligomer [plasma membrane]\n",
      "R-HSA-8863895 | R-HSA-8863966 | SNAP23 [phagocytic vesicle membrane]\n",
      "R-HSA-8863895 | R-HSA-6787702 | TLR1 [plasma membrane]\n",
      "R-HSA-8863895 | R-HSA-168946  | TLR1:TLR2 [plasma membrane]\n",
      "R-HSA-8863895 | R-HSA-2559462 | TLR1:TLR2 ligand:CD14 [plasma membrane]\n",
      "R-HSA-8863895 | R-HSA-181226  | TLR1:TLR2:TLR1/2 ligand:CD14 [plasma membrane]\n",
      "R-HSA-8863895 | R-HSA-167992  | TLR2 [plasma membrane]\n",
      "R-HSA-8863895 | R-HSA-166050  | TLR4:LY96 [plasma membrane]\n",
      "R-HSA-8863895 | R-HSA-166850  | TLR4:LY96:LPS:CD14 [plasma membrane]\n",
      "R-HSA-8863895 | R-HSA-168061  | TLR6 [plasma membrane]\n",
      "R-HSA-8863895 | R-HSA-2559461 | TLR6/2 ligand:CD14:CD36 [plasma membrane]\n",
      "R-HSA-8863895 | R-HSA-168949  | TLR6:TLR2 [plasma membrane]\n",
      "R-HSA-8863895 | R-HSA-181410  | TLR6:TLR2:ligand:CD14:CD36 [plasma membrane]\n",
      "R-HSA-8863895 | R-HSA-2201325 | activated TLR2/4:p-4Y-TIRAP:PI(4,5)P2:BTK [plasma membrane]\n",
      "R-HSA-8863895 | R-HSA-937033  | oligo-MyD88:TIRAP:BTK:activated TLR [plasma membrane]\n",
      "R-HSA-8863895 | R-HSA-2201321 | p-4Y-TIRAP [plasma membrane]\n",
      "R-HSA-8863895 | R-HSA-5365824 | p-4Y-TIRAP:PI(4,5)P2 [plasma membrane]\n",
      "R-HSA-8863895 | R-HSA-8863923 | p-S95-SNAP23 [phagocytic vesicle membrane]\n",
      "R-HSA-8863895 | R-NME-180815  | Major outer membrane protein P [extracellular region]\n",
      "R-HSA-8863895 | R-NME-180817  | PorB Homotrimer [extracellular region]\n",
      "R-HSA-8863895 | R-NME-168944  | TLR1:TLR2 recognized ligand [extracellular region]\n"
     ]
    }
   ],
   "source": [
    "# Print all the participants in the reaction, R-HSA-8863895, IKKB phosphorylates SNAP23\n",
    "print('     Reaction | Participant   | Participant Name')\n",
    "print('--------------|---------------|----------------')\n",
    "for record in sorted(_get_data(), key=lambda r: [r['Participant'][:5], r['DisplayName']]):\n",
    "    print(\"{Reaction} | {Participant:13} | {DisplayName}\".format(**record))"
   ]
  },
  {
   "cell_type": "markdown",
   "metadata": {},
   "source": [
    "Copyright (C) 2018-present, DV Klopfenstein. All rights reserved."
   ]
  }
 ],
 "metadata": {
  "kernelspec": {
   "display_name": "Python 3",
   "language": "python",
   "name": "python3"
  },
  "language_info": {
   "codemirror_mode": {
    "name": "ipython",
    "version": 3
   },
   "file_extension": ".py",
   "mimetype": "text/x-python",
   "name": "python",
   "nbconvert_exporter": "python",
   "pygments_lexer": "ipython3",
   "version": "3.6.7"
  }
 },
 "nbformat": 4,
 "nbformat_minor": 2
}
