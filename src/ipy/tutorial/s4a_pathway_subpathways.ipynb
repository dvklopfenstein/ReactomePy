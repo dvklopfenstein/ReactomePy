{
 "cells": [
  {
   "cell_type": "markdown",
   "metadata": {},
   "source": [
    "# Tutorial 4a) Retrieving pathways, subpathways, and superpathways.\n",
    "What sub-pathways are under under pathway, R-HSA-983169, _Class I MHC mediated antigen processing & presentation_?\n",
    "\n",
    "[**Reactome Tutorial**: Retrieving pathways, subpathways and superpathways](https://reactome.org/dev/graph-database/extract-participating-molecules#retrieving-pathways)\n",
    "\n",
    "## Step 1) [Connect to Neo4j loaded with Reactome](https://github.com/dvklopfenstein/reactome_neo4j_py/blob/master/doc/md/README_gdbdr.md)"
   ]
  },
  {
   "cell_type": "code",
   "execution_count": 3,
   "metadata": {},
   "outputs": [],
   "source": [
    "# Link to Reactome Knowledbase loaded into Neo4j\n",
    "from neo4j import GraphDatabase\n",
    "\n",
    "neo4j_url = 'bolt://localhost:7687'\n",
    "neo4j_usr = 'neo4j'\n",
    "neo4j_password = 'myneo4j_password'\n",
    "\n",
    "gdbdr = GraphDatabase.driver(neo4j_url, auth=(neo4j_usr, myneo4j_password))"
   ]
  },
  {
   "cell_type": "markdown",
   "metadata": {},
   "source": [
    " ## Step 2) Query\n",
    " ### What sub-pathways are under under pathway, R-HSA-983169, _Class I MHC mediated antigen processing & presentation_?"
   ]
  },
  {
   "cell_type": "code",
   "execution_count": 10,
   "metadata": {},
   "outputs": [
    {
     "name": "stdout",
     "output_type": "stream",
     "text": [
      "    Pathway      | SubPathway ID | SubPathway Name\n",
      "-----------------|---------------|----------------\n",
      "    R-HSA-983169 | R-HSA-983168  | Antigen processing: Ubiquitination & Proteasome degradation\n",
      "    R-HSA-983169 | R-HSA-1236975 | Antigen processing-Cross presentation\n",
      "    R-HSA-983169 | R-HSA-983170  | Antigen Presentation: Folding, assembly and peptide loading of class I MHC\n"
     ]
    }
   ],
   "source": [
    "query = ('MATCH (p:Pathway{stId:\"R-HSA-983169\"})-[:hasEvent]->(sp:Pathway) '\n",
    "         'RETURN '\n",
    "         'p.stId AS Pathway, '\n",
    "         'sp.stId AS SubPathway_ID, '\n",
    "         'sp.displayName as SubPathway_Name')\n",
    "\n",
    "# Query and get the sub-pathways under R-HSA-983169\n",
    "def _get_data():\n",
    "    with gdbdr.session() as session:\n",
    "        return [rec.data() for rec in session.run(query).records()]\n",
    "    \n",
    "# Print sub-pathways under R-HSA-983169\n",
    "print('    Pathway      | SubPathway ID | SubPathway Name')\n",
    "print('-----------------|---------------|----------------')\n",
    "for data in _get_data():\n",
    "    print(\"    {Pathway} | {SubPathway_ID:13} | {SubPathway_Name}\".format(**data))",
    "\n",
   ]
  },
  {
   "cell_type": "markdown",
   "metadata": {},
   "source": [
    "Copyright (C) 2018-2019, DV Klopfenstein. All rights reserved."
   ]
  }
 ],
 "metadata": {
  "kernelspec": {
   "display_name": "Python 3",
   "language": "python",
   "name": "python3"
  },
  "language_info": {
   "codemirror_mode": {
    "name": "ipython",
    "version": 3
   },
   "file_extension": ".py",
   "mimetype": "text/x-python",
   "name": "python",
   "nbconvert_exporter": "python",
   "pygments_lexer": "ipython3",
   "version": "3.7.1"
  }
 },
 "nbformat": 4,
 "nbformat_minor": 2
}
