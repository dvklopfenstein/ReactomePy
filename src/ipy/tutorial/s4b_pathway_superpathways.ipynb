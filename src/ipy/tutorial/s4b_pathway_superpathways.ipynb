{
 "cells": [
  {
   "cell_type": "markdown",
   "metadata": {},
   "source": [
    "# Tutorial 4b) Retrieving pathways and superpathways\n",
    "What superpathways are above the pathway, R-HSA-983169, _Class I MHC mediated antigen processing & presentation_?\n",
    "\n",
    "[**Reactome Tutorial**: Retrieving pathways, subpathways and superpathways](https://reactome.org/dev/graph-database/extract-participating-molecules#retrieving-pathways)\n",
    "\n",
    "## Step 1) [Connect to Neo4j loaded with the Reactome Knowledgebase](https://github.com/dvklopfenstein/reactome_neo4j_py/blob/master/doc/md/README_gdbdr.md)"
   ]
  },
  {
   "cell_type": "code",
   "execution_count": 5,
   "metadata": {},
   "outputs": [],
   "source": [
    "# Link to Reactome Knowledbase loaded into Neo4j\n",
    "from neo4j import GraphDatabase\n",
    "\n",
    "neo4j_url = 'bolt://localhost:7687'\n",
    "neo4j_usr = 'neo4j'\n",
    "neo4j_password = 'myneo4j_password'\n",
    "\n",
    "gdbdr = GraphDatabase.driver(neo4j_url, auth=(neo4j_usr, neo4j_password))"
   ]
  },
  {
   "cell_type": "markdown",
   "metadata": {},
   "source": [
    " ## Step 2) Query\n",
    " ### What superpathways are directly over pathway, R-HSA-983169, _Class I MHC mediated antigen processing & presentation_?"
   ]
  },
  {
   "cell_type": "code",
   "execution_count": 7,
   "metadata": {},
   "outputs": [
    {
     "name": "stdout",
     "output_type": "stream",
     "text": [
      "    Pathway      | SuperPathway ID | SuperPathway Name\n",
      "-----------------|-----------------|----------------\n",
      "    R-HSA-983169 | R-HSA-1280218   | Adaptive Immune System\n"
     ]
    }
   ],
   "source": [
    "query = ('MATCH (p:Pathway{stId:\"R-HSA-983169\"})<-[:hasEvent]-(sp:Pathway) '\n",
    "         'RETURN '\n",
    "         'p.stId AS Pathway, '\n",
    "         'sp.stId AS SuperPathway_ID, '\n",
    "         'sp.displayName as SuperPathway_Name')\n",
    "\n",
    "# Query and get the sub-pathways under R-HSA-983169\n",
    "def _get_data():\n",
    "    with gdbdr.session() as session:\n",
    "        return [rec.data() for rec in session.run(query).records()]\n",
    "    \n",
    "# Print sub-pathways under R-HSA-983169\n",
    "print('    Pathway      | SuperPathway ID | SuperPathway Name')\n",
    "print('-----------------|-----------------|----------------')\n",
    "for data in _get_data():\n",
    "    print(\"    {Pathway} | {SuperPathway_ID:15} | {SuperPathway_Name}\".format(**data))\n"
   ]
  },
  {
   "cell_type": "markdown",
   "metadata": {},
   "source": [
    " ## Step 3) Query\n",
    " ### Retrieve all superpathways directly over pathway, R-HSA-983169, _Class I MHC mediated antigen processing & presentation_"
   ]
  },
  {
   "cell_type": "code",
   "execution_count": 8,
   "metadata": {},
   "outputs": [
    {
     "name": "stdout",
     "output_type": "stream",
     "text": [
      "    Pathway      | SuperPathway ID | SuperPathway Name\n",
      "-----------------|-----------------|----------------\n",
      "    R-HSA-983169 | R-HSA-1280218   | Adaptive Immune System\n",
      "    R-HSA-983169 | R-HSA-168256    | Immune System\n"
     ]
    }
   ],
   "source": [
    "query = ('MATCH (p:Pathway{stId:\"R-HSA-983169\"})<-[:hasEvent*]-(sp:Pathway) '\n",
    "         'RETURN '\n",
    "         'p.stId AS Pathway, '\n",
    "         'sp.stId AS SuperPathway_ID, '\n",
    "         'sp.displayName as SuperPathway_Name')\n",
    "\n",
    "# Query and get the sub-pathways under R-HSA-983169\n",
    "def _get_data():\n",
    "    with gdbdr.session() as session:\n",
    "        return [rec.data() for rec in session.run(query).records()]\n",
    "    \n",
    "# Print sub-pathways under R-HSA-983169\n",
    "print('    Pathway      | SuperPathway ID | SuperPathway Name')\n",
    "print('-----------------|-----------------|----------------')\n",
    "for data in _get_data():\n",
    "    print(\"    {Pathway} | {SuperPathway_ID:15} | {SuperPathway_Name}\".format(**data))\n"
   ]
  },
  {
   "cell_type": "markdown",
   "metadata": {},
   "source": [
    "Copyright (C) 2018-2019, DV Klopfenstein. All rights reserved."
   ]
  }
 ],
 "metadata": {
  "kernelspec": {
   "display_name": "Python 3",
   "language": "python",
   "name": "python3"
  },
  "language_info": {
   "codemirror_mode": {
    "name": "ipython",
    "version": 3
   },
   "file_extension": ".py",
   "mimetype": "text/x-python",
   "name": "python",
   "nbconvert_exporter": "python",
   "pygments_lexer": "ipython3",
   "version": "3.7.1"
  }
 },
 "nbformat": 4,
 "nbformat_minor": 2
}
