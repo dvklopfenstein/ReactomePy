{
 "cells": [
  {
   "cell_type": "markdown",
   "metadata": {},
   "source": [
    "# Tutorial 6a) Retrieving the participants for a given reaction\n",
    "What are the first level participants in the reaction, R-HSA-8863895, _IKKB phosphorylates SNAP23_?\n",
    "\n",
    "[**Reactome Tutorial**: Retrieving the participants for a given reaction](https://reactome.org/dev/graph-database/extract-participating-molecules#retrieving-participants)\n",
    "\n",
    "## Step 1) [Connect to Neo4j loaded with the Reactome Knowledgebase](https://github.com/dvklopfenstein/reactome_neo4j_py/blob/master/doc/md/README_gdbdr.md)"
   ]
  },
  {
   "cell_type": "code",
   "execution_count": 2,
   "metadata": {},
   "outputs": [],
   "source": [
    "# Link to Reactome Knowledbase loaded into Neo4j\n",
    "from neo4j import GraphDatabase\n",
    "\n",
    "neo4j_url = 'bolt://localhost:7687'\n",
    "neo4j_usr = 'neo4j'\n",
    "neo4j_password = 'myneo4j_password'\n",
    "\n",
    "gdbdr = GraphDatabase.driver(neo4j_url, auth=(neo4j_usr, neo4j_password))"
   ]
  },
  {
   "cell_type": "markdown",
   "metadata": {},
   "source": [
    " ## Step 2) Reaction Participant Query\n",
    " ### What are the first level participants in the reaction, R-HSA-8863895, _IKKB phosphorylates SNAP23_?\n",
    "Reactions have inputs, outputs, catalysts and regulations, so to know the participants of a reaction, all these slots have to be taken into account. Please note that the physical entity acting as catalyst is stored in the _physicalEntity_ slot of the class _CatalystActivity_ and the one belonging to the regulation is stored in the _regulator_ slot of the _Regulation_ class."
   ]
  },
  {
   "cell_type": "code",
   "execution_count": 10,
   "metadata": {},
   "outputs": [
    {
     "name": "stdout",
     "output_type": "stream",
     "text": [
      "     Reaction | Participant   | Participant Name\n",
      "--------------|---------------|----------------\n",
      "R-HSA-8863895 | R-HSA-168113  | CHUK:IKBKB:IKBKG [cytosol]\n",
      "R-HSA-8863895 | R-ALL-113592  | ATP [cytosol]\n",
      "R-HSA-8863895 | R-HSA-8863966 | SNAP23 [phagocytic vesicle membrane]\n",
      "R-HSA-8863895 | R-HSA-8863923 | p-S95-SNAP23 [phagocytic vesicle membrane]\n",
      "R-HSA-8863895 | R-ALL-29370   | ADP [cytosol]\n",
      "R-HSA-8863895 | R-HSA-937033  | oligo-MyD88:TIRAP:BTK:activated TLR [plasma membrane]\n"
     ]
    }
   ],
   "source": [
    "query = ('MATCH (r:ReactionLikeEvent{stId:\"R-HSA-8863895\"})'\n",
    "         '-[:input|output|catalystActivity|physicalEntity|regulatedBy|regulator*]'\n",
    "         '->(pe:PhysicalEntity)'\n",
    "         'RETURN DISTINCT r.stId AS Reaction, pe.stId as Participant, pe.displayName AS DisplayName')\n",
    "\n",
    "# Query and get the sub-pathways under R-HSA-983169\n",
    "def _get_data():\n",
    "    with gdbdr.session() as session:\n",
    "        return [rec.data() for rec in session.run(query).records()]\n",
    "    \n",
    "# Print sub-pathways under R-HSA-983169\n",
    "print('     Reaction | Participant   | Participant Name')\n",
    "print('--------------|---------------|----------------')\n",
    "for data in _get_data():\n",
    "    print(\"{Reaction} | {Participant:13} | {DisplayName}\".format(**data))\n"
   ]
  },
  {
   "cell_type": "markdown",
   "metadata": {},
   "source": [
    "Copyright (C) 2018-2019, DV Klopfenstein. All rights reserved."
   ]
  }
 ],
 "metadata": {
  "kernelspec": {
   "display_name": "Python 3",
   "language": "python",
   "name": "python3"
  },
  "language_info": {
   "codemirror_mode": {
    "name": "ipython",
    "version": 3
   },
   "file_extension": ".py",
   "mimetype": "text/x-python",
   "name": "python",
   "nbconvert_exporter": "python",
   "pygments_lexer": "ipython3",
   "version": "3.7.1"
  }
 },
 "nbformat": 4,
 "nbformat_minor": 2
}
