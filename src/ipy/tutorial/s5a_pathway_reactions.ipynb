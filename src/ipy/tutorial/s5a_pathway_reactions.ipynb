{
 "cells": [
  {
   "cell_type": "markdown",
   "metadata": {},
   "source": [
    "# Tutorial 5a) Retrieving the reactions for a given pathway\n",
    "What reactions are in the pathway, R-HSA-983169, _Class I MHC mediated antigen processing & presentation_?\n",
    "\n",
    "[**Reactome Tutorial**: Retrieving the reactions for a given pathway](https://reactome.org/dev/graph-database/extract-participating-molecules#retrieving-reactions)\n",
    "\n",
    "## Step 1) [Connect to Neo4j loaded with the Reactome Knowledgebase](https://github.com/dvklopfenstein/reactome_neo4j_py/blob/master/doc/md/README_gdbdr.md)"
   ]
  },
  {
   "cell_type": "code",
   "execution_count": 5,
   "metadata": {},
   "outputs": [],
   "source": [
    "# Link to Reactome Knowledbase loaded into Neo4j\n",
    "from neo4j import GraphDatabase\n",
    "\n",
    "neo4j_url = 'bolt://localhost:7687'\n",
    "neo4j_usr = 'neo4j'\n",
    "neo4j_password = 'myneo4j_password'\n",
    "\n",
    "gdbdr = GraphDatabase.driver(neo4j_url, auth=(neo4j_usr, neo4j_password))"
   ]
  },
  {
   "cell_type": "markdown",
   "metadata": {},
   "source": [
    " ## Step 2) Query\n",
    " ### For pathway, R-HSA-983169, _Class I MHC mediated antigen processing & presentation_, what reactions are contained in or are part of any of its subpathways?"
   ]
  },
  {
   "cell_type": "code",
   "execution_count": 13,
   "metadata": {},
   "outputs": [
    {
     "name": "stdout",
     "output_type": "stream",
     "text": [
      "     Pathway | Reaction ID   | Reaction Name\n",
      "-------------|---------------|----------------\n",
      "R-HSA-983169 | R-HSA-983148  | Interaction of Erp57 with MHC class I HC\n",
      "R-HSA-983169 | R-HSA-8951499 | Loading of antigenic peptides on to class I MHC\n",
      "R-HSA-983169 | R-HSA-983146  | Interaction of beta-2-microglobulin (B2M) chain with  class I HC\n",
      "R-HSA-983169 | R-HSA-983145  | Binding of newly synthesized MHC class I heavy chain (HC) with calnexin\n",
      "R-HSA-983169 | R-HSA-983144  | Transport of Antigen peptide in to ER\n",
      "R-HSA-983169 | R-HSA-203979  | Coat Assembly\n",
      "R-HSA-983169 | R-HSA-983142  | Formation of peptide loading complex (PLC)\n",
      "R-HSA-983169 | R-HSA-983427  | Expression of peptide bound class I MHC on cell surface\n",
      "R-HSA-983169 | R-HSA-983138  | Transport of MHC heterotrimer to ER exit site\n",
      "R-HSA-983169 | R-HSA-983426  | Capturing cargo and formation of prebudding complex\n",
      "R-HSA-983169 | R-HSA-983425  | Recruitment of Sec31p:Sec13p to prebudding complex and formation of COPII vesicle\n",
      "R-HSA-983169 | R-HSA-983424  | Budding of COPII coated vesicle\n",
      "R-HSA-983169 | R-HSA-983422  | Disassembly of COPII coated vesicle\n",
      "R-HSA-983169 | R-HSA-983421  | Journey of cargo through Golgi complex\n",
      "R-HSA-983169 | R-HSA-983161  | Dissociation of the Antigenic peptide:MHC:B2M peptide loading complex\n",
      "R-HSA-983169 | R-HSA-983158  | Trimming of peptides in ER\n",
      "R-HSA-983169 | R-HSA-1236970 | Proteasomal clevage of exogenous antigen\n",
      "R-HSA-983169 | R-HSA-1236939 | Interaction of exogenous soluble antigen with its corresponding receptor\n",
      "R-HSA-983169 | R-HSA-1236955 | Movement of clathrin coated vesicles into early endosome\n",
      "R-HSA-983169 | R-HSA-1236968 | Egress of internalized antigen into cytosol from early endosome\n",
      "R-HSA-983169 | R-HSA-1236940 | Exogenous soluble antigen targeted to more stable early endosome\n",
      "R-HSA-983169 | R-HSA-1236941 | Internalization of receptor bound antigen into clathrin coted vesicles\n",
      "R-HSA-983169 | R-HSA-1236948 | Antigen processing by cathepsin S in endosoytic vesicle\n",
      "R-HSA-983169 | R-HSA-1236964 | Translocation of peptide bound MHC class I complex to cell surface\n",
      "R-HSA-983169 | R-HSA-1236954 | Trimming of peptides by IRAP in endocytic vesicles\n",
      "R-HSA-983169 | R-HSA-1236943 | Loading of antigen peptide onto MHC class I molecule\n",
      "R-HSA-983169 | R-HSA-8863895 | IKKB phosphorylates SNAP23\n",
      "R-HSA-983169 | R-HSA-1236947 | Egress of internalized antigen to the cytosol via sec61\n",
      "R-HSA-983169 | R-HSA-8863973 | Fusion of ERC and phagosome\n",
      "R-HSA-983169 | R-HSA-8951595 | CALR, TAP, TAPBP dissociate from SEC22B:STX4\n",
      "R-HSA-983169 | R-HSA-1236935 | Proteasomal cleavage of substrate\n",
      "R-HSA-983169 | R-HSA-8863858 | SEC22B, CALR, STX4, TAP and TAPBP bind\n",
      "R-HSA-983169 | R-HSA-1236949 | Translocation of antigenic peptides back to phagosomes via TAP\n",
      "R-HSA-983169 | R-HSA-1236965 | Export of peptide loaded MHC class I complex to PM\n",
      "R-HSA-983169 | R-HSA-1236971 | Peptide loading on MHC class I in phagosome\n",
      "R-HSA-983169 | R-HSA-8863914 | Transport of SEC22B, TAP and PLC from ER to ERGIC\n",
      "R-HSA-983169 | R-HSA-1236963 | Maturation of phagosome into phagolysosome\n",
      "R-HSA-983169 | R-HSA-1236967 | Alkalization of the phagosomal lumen by NOX2\n",
      "R-HSA-983169 | R-HSA-1236938 | Partial proteolysis of antigen in phagolysosomes\n",
      "R-HSA-983169 | R-HSA-1236958 | Interaction of particulate antigens with dendritic cell receptors\n",
      "R-HSA-983169 | R-HSA-1236956 | Engulfment of particulate antigen into phagocytic vesicle\n",
      "R-HSA-983169 | R-HSA-1236972 | Escape of antigens from phagosome to cytosol\n",
      "R-HSA-983169 | R-HSA-983150  | Proteasomal cleavage of substrate\n",
      "R-HSA-983169 | R-HSA-983147  | Release of E3 from polyubiquitinated substrate\n",
      "R-HSA-983169 | R-HSA-983162  | Trimming of N-ter extended precursor fragments by cytosolic aminopeptidases\n",
      "R-HSA-983169 | R-HSA-8940641 | THOP1 cleaves oligopeptide fragment (8-16aa)\n",
      "R-HSA-983169 | R-HSA-983157  | Interaction of E3 with substrate and E2-Ub complex\n",
      "R-HSA-983169 | R-HSA-983140  | Transfer of Ub from E2 to substrate and release of E2\n",
      "R-HSA-983169 | R-HSA-983156  | Polyubiquitination of substrate\n",
      "R-HSA-983169 | R-HSA-983153  | E1 mediated ubiquitin activation\n",
      "R-HSA-983169 | R-HSA-983152  | Transfer of ubiquitin from E1 to E2\n"
     ]
    }
   ],
   "source": [
    "query = ('MATCH (p:Pathway{stId:\"R-HSA-983169\"})-[:hasEvent*]->(rle:ReactionLikeEvent) '\n",
    "         'RETURN '\n",
    "         'p.stId AS Pathway, '\n",
    "         'rle.stId AS Reaction_ID, '\n",
    "         'rle.displayName as Reaction_Name')\n",
    "\n",
    "# Query and get the sub-pathways under R-HSA-983169\n",
    "def _get_data():\n",
    "    with gdbdr.session() as session:\n",
    "        return [rec.data() for rec in session.run(query).records()]\n",
    "    \n",
    "# Print sub-pathways under R-HSA-983169\n",
    "print('     Pathway | Reaction ID   | Reaction Name')\n",
    "print('-------------|---------------|----------------')\n",
    "for data in _get_data():\n",
    "    print(\"{Pathway} | {Reaction_ID:13} | {Reaction_Name}\".format(**data))\n"
   ]
  },
  {
   "cell_type": "markdown",
   "metadata": {},
   "source": [
    "Copyright (C) 2018-2019, DV Klopfenstein. All rights reserved."
   ]
  }
 ],
 "metadata": {
  "kernelspec": {
   "display_name": "Python 3",
   "language": "python",
   "name": "python3"
  },
  "language_info": {
   "codemirror_mode": {
    "name": "ipython",
    "version": 3
   },
   "file_extension": ".py",
   "mimetype": "text/x-python",
   "name": "python",
   "nbconvert_exporter": "python",
   "pygments_lexer": "ipython3",
   "version": "3.7.1"
  }
 },
 "nbformat": 4,
 "nbformat_minor": 2
}
