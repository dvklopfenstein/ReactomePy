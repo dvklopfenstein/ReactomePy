{
 "cells": [
  {
   "cell_type": "markdown",
   "metadata": {},
   "source": [
    "# Which molecules participate in _Interleukin-4 and 13 signaling_ (R-HSA-6785807)?\n",
    "\n",
    "From Figure 4a in [_**Reactome graph database: Efficient access to complex pathway data**_](https://journals.plos.org/ploscompbiol/article?rev=2&id=10.1371/journal.pcbi.1005968)\n",
    "\n",
    "\n",
    "## Step 1) [Connect to Neo4j loaded with the Reactome Knowledgebase](https://github.com/dvklopfenstein/reactome_neo4j_py/blob/master/doc/md/README_gdbdr.md)"
   ]
  },
  {
   "cell_type": "code",
   "execution_count": 7,
   "metadata": {},
   "outputs": [],
   "source": [
    "# Link to Reactome Knowledgebase loaded into Neo4j\n",
    "from neo4j import GraphDatabase\n",
    "\n",
    "neo4j_url = 'bolt://localhost:7687'\n",
    "neo4j_usr = 'neo4j'\n",
    "neo4j_password = 'myneo4j_password'\n",
    "\n",
    "gdbdr = GraphDatabase.driver(neo4j_url, auth=(neo4j_usr, neo4j_password))"
   ]
  },
  {
   "cell_type": "markdown",
   "metadata": {},
   "source": [
    "## Step 2) Pathway Molecules Query\n",
    "### Which molecules participate in _Interleukin-4 and 13 signaling_ (R-HSA-6785807)?"
   ]
  },
  {
   "cell_type": "code",
   "execution_count": null,
   "metadata": {},
   "outputs": [],
   "source": [
    "## Step 2) Pathway Molecules Query\n",
    "\n",
    "query = ('MATCH (p:Pathway{stId:\"R-HSA-6785807\"})-[:hasEvent*]->(rle:ReactionLikeEvent), '\n",
    "         '(rle)-[:'\n",
    "         'input|output|catalystActivity|regulatedBy|'\n",
    "         'hasComponent|hasMember|hasCandidate|'\n",
    "         'entityFunctionalStatus|physicalEntity|'\n",
    "         'regulator|repeatedUnit'\n",
    "         '*]->(pe:PhysicalEntity), '\n",
    "         '(pe)-[:referenceEntity]->(re:ReferenceEntity)-[:referenceDatabase]->(rd:ReferenceDatabase) '\n",
    "         'RETURN DISTINCT pe.displayName AS Name, re.identifier AS Identifier, rd.displayName AS Database')\n",
    "\n",
    "# Query and get the sub-pathways under R-HSA-983169\n",
    "def _get_data():\n",
    "    with gdbdr.session() as session:\n",
    "        return [rec.data() for rec in session.run(query).records()]\n",
    "\n",
    "data = _get_data()"
   ]
  },
  {
   "cell_type": "markdown",
   "metadata": {},
   "source": [
    "## Step 3) Print Data"
   ]
  },
  {
   "cell_type": "code",
   "execution_count": null,
   "metadata": {},
   "outputs": [],
   "source": [
    "# Print sub-pathways under R-HSA-983169\n",
    "print('{N} molecules participate in \"Interleukin-4 and 13 signaling\":\\n'.format(N=len(data)))\n",
    "print('Database| ID              | Name')\n",
    "print('--------|-----------------|--------------------------')\n",
    "for data in sorted(data, key=lambda r:[r['Database'], r['Name']]):\n",
    "    print(\"{Database:8}| {Identifier:15} | {Name}\".format(**data))"
   ]
  },
  {
   "cell_type": "markdown",
   "metadata": {},
   "source": [
    "Copyright (C) 2018-2019, DV Klopfenstein. All rights reserved."
   ]
  }
 ],
 "metadata": {
  "kernelspec": {
   "display_name": "Python 3",
   "language": "python",
   "name": "python3"
  },
  "language_info": {
   "codemirror_mode": {
    "name": "ipython",
    "version": 3
   },
   "file_extension": ".py",
   "mimetype": "text/x-python",
   "name": "python",
   "nbconvert_exporter": "python",
   "pygments_lexer": "ipython3",
   "version": "3.7.1"
  }
 },
 "nbformat": 4,
 "nbformat_minor": 2
}
