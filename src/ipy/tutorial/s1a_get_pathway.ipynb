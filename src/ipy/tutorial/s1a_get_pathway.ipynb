{
 "cells": [
  {
   "cell_type": "markdown",
   "metadata": {},
   "source": [
    "# Step 1a) Retrieve a Pathway based on its identifier\n",
    "Get the Pathway **\"Antigen processing-Cross presentation\"** with identifier **R-HSA-1236975**\n",
    "\n",
    "[**Reactome Tutorial**: Retrieving a pathway object](https://reactome.org/dev/graph-database/extract-participating-molecules#retrieving-objects)\n"
   ]
  },
  {
   "cell_type": "code",
   "execution_count": 3,
   "metadata": {},
   "outputs": [],
   "source": [
    "# Connect to Neo4j\n",
    "from neo4j import GraphDatabase\n",
    "\n",
    "neo4j_url = 'bolt://localhost:7687'\n",
    "neo4j_usr = 'neo4j'\n",
    "neo4j_password = 'myneo4j_password'\n",
    "\n",
    "gdbdr = GraphDatabase.driver(neo4j_url, auth=(neo4j_usr, neo4j_password)) "
   ]
  },
  {
   "cell_type": "code",
   "execution_count": 2,
   "metadata": {},
   "outputs": [
    {
     "name": "stdout",
     "output_type": "stream",
     "text": [
      "    schemaClass Pathway\n",
      "    speciesName Homo sapiens\n",
      "    oldStId     REACT_111119\n",
      "    isInDisease False\n",
      "    releaseDate 2011-09-20\n",
      "    displayName Antigen processing-Cross presentation\n",
      "    stIdVersion R-HSA-1236975.1\n",
      "    dbId        1236975\n",
      "    name        ['Antigen processing-Cross presentation']\n",
      "    stId        R-HSA-1236975\n",
      "    hasDiagram  False\n",
      "    isInferred  False\n"
     ]
    }
   ],
   "source": [
    "query = 'MATCH (pathway:Pathway{stId:\"R-HSA-1236975\"}) RETURN pathway'\n",
    "\n",
    "with gdbdr.session() as session:\n",
    "    for rec in session.run(query).records():\n",
    "        for key, val in rec['pathway'].items():\n",
    "            print(\"    {KEY:11} {VAL}\".format(KEY=key, VAL=val))"
   ]
  }
 ],
 "metadata": {
  "kernelspec": {
   "display_name": "Python 3",
   "language": "python",
   "name": "python3"
  },
  "language_info": {
   "codemirror_mode": {
    "name": "ipython",
    "version": 3
   },
   "file_extension": ".py",
   "mimetype": "text/x-python",
   "name": "python",
   "nbconvert_exporter": "python",
   "pygments_lexer": "ipython3",
   "version": "3.7.1"
  }
 },
 "nbformat": 4,
 "nbformat_minor": 2
}
